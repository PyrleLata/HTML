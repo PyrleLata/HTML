{
  "nbformat": 4,
  "nbformat_minor": 0,
  "metadata": {
    "kernelspec": {
      "display_name": "Python 3",
      "language": "python",
      "name": "python3"
    },
    "language_info": {
      "codemirror_mode": {
        "name": "ipython",
        "version": 3
      },
      "file_extension": ".py",
      "mimetype": "text/x-python",
      "name": "python",
      "nbconvert_exporter": "python",
      "pygments_lexer": "ipython3",
      "version": "3.7.0"
    },
    "colab": {
      "name": "Python 101.ipynb",
      "provenance": [],
      "collapsed_sections": [],
      "include_colab_link": true
    }
  },
  "cells": [
    {
      "cell_type": "markdown",
      "metadata": {
        "id": "view-in-github",
        "colab_type": "text"
      },
      "source": [
        "<a href=\"https://colab.research.google.com/github/PyrleLata/HTML/blob/master/Python_101.ipynb\" target=\"_parent\"><img src=\"https://colab.research.google.com/assets/colab-badge.svg\" alt=\"Open In Colab\"/></a>"
      ]
    },
    {
      "cell_type": "markdown",
      "metadata": {
        "id": "2C3F9KOLvoID"
      },
      "source": [
        "# Welcome to Python 101!\n",
        "\n",
        "This notebook will introduce you to Python. You can the code here as \"sample code\" to be modified slightly. \n",
        "\n",
        "This will help you get a sense of how Python commands work.\n",
        "\n",
        "If you want to follow along w/ edits, please **CREATE A COPY. :)**\n",
        "<br>\n"
      ]
    },
    {
      "cell_type": "markdown",
      "metadata": {
        "id": "gXSvFPYgvoIH"
      },
      "source": [
        "\n",
        "If you would like to read more about Python, this short essay published by the Python Software Foundation might be of interest: <a href=\"https://www.python.org/doc/essays/blurb/\">What is Python?</a>"
      ]
    },
    {
      "cell_type": "markdown",
      "metadata": {
        "id": "UMO9WkOAvoIS"
      },
      "source": [
        "## Variables\n",
        "You can think of variables as \"boxes\" that hold data. When you _assign_ a _value_ to a _variable_, you are storing the data contained by the value in the variable \"box.\" In Python, unlike in some other programming languages, you do not have to specify what _type_ of data you want to store in the variable. <br><br>\n",
        "There are a number of types you should know about:\n",
        "- __String__: A string is a sequence of characters and is generally shown within quotes (e.g. \"Sample String\")\n",
        "- __Integer__: An integer is a numerical data type with no decimal component (e.g. 7)\n",
        "- __Float__: A float is a numerical data type that has a decimal component (e.g. 7.0)\n",
        "- __Boolean__: The boolean data type contains the built-in values of True and False (only)\n",
        "\n",
        "The code cell below demonstrates the use of variables for different data types."
      ]
    },
    {
      "cell_type": "code",
      "metadata": {
        "id": "sHi0Mh8xvoIT",
        "colab": {
          "base_uri": "https://localhost:8080/"
        },
        "outputId": "e69b7392-393d-4a9f-aac5-fefd0be6ad05"
      },
      "source": [
        "# Variables\n",
        "\n",
        "name = \"Andrew\"   #string\n",
        "\n",
        "number_of_people = 3 #int\n",
        "\n",
        "pizzas_eaten = 1.5 #float\n",
        "\n",
        "hungry = True #boolean \n",
        "\n",
        "list_of_cool_people = [\"you\", 'me', \"Bill Waterson\", 7, 93.4] #List\n",
        "\n",
        "\n",
        "\n",
        "\n",
        "print(name, number_of_people, pizzas_eaten, hungry, list_of_cool_people)"
      ],
      "execution_count": null,
      "outputs": [
        {
          "output_type": "stream",
          "text": [
            "Andrew 3 1.5 True ['you', 'me', 'Bill Waterson', 7, 93.4]\n"
          ],
          "name": "stdout"
        }
      ]
    },
    {
      "cell_type": "code",
      "metadata": {
        "id": "wr9t9IzGvoIY",
        "colab": {
          "base_uri": "https://localhost:8080/"
        },
        "outputId": "7cbfecec-c4c3-489c-d439-1706abed419e"
      },
      "source": [
        "# More on Variables\n",
        "\n",
        "# New values can be reassigned to variables\n",
        "x = 3\n",
        "\n",
        "print(x)\n",
        "\n",
        "x = 5\n",
        "\n",
        "print(x)\n"
      ],
      "execution_count": null,
      "outputs": [
        {
          "output_type": "stream",
          "text": [
            "3\n",
            "5\n"
          ],
          "name": "stdout"
        }
      ]
    },
    {
      "cell_type": "code",
      "metadata": {
        "id": "37y2RvZivoIe",
        "colab": {
          "base_uri": "https://localhost:8080/"
        },
        "outputId": "3d4a9b42-1730-4b4f-a29b-cab7eb43bd45"
      },
      "source": [
        "# Changing the data type stored in a variable\n",
        "\n",
        "# This can be done the same way we changed the numeric value that was stored.\n",
        "# Change the value stored in x to a string, \"HELLO!\"\n",
        "x = \"HELLO!\"\n",
        "\n",
        "print(x)\n",
        "\n",
        "x = 5\n",
        "\n",
        "print(x)"
      ],
      "execution_count": null,
      "outputs": [
        {
          "output_type": "stream",
          "text": [
            "HELLO!\n",
            "5\n"
          ],
          "name": "stdout"
        }
      ]
    },
    {
      "cell_type": "markdown",
      "metadata": {
        "id": "QyUI_E0e0X9V"
      },
      "source": [
        "#Math in Python\r\n",
        "\r\n",
        "Doing mathmatical operation is a major of all porgramming languages. Math in Python is done in a very simple manner, and follows the principle of making Python code readable. \r\n",
        "\r\n",
        "Here are all the main operations in Python:\r\n",
        "\r\n"
      ]
    },
    {
      "cell_type": "code",
      "metadata": {
        "colab": {
          "base_uri": "https://localhost:8080/"
        },
        "id": "MxmH-M9yROWB",
        "outputId": "b2d092cf-d681-4a5d-a147-bb1794bcb6d0"
      },
      "source": [
        "#addition\r\n",
        "print(9 + 10)\r\n",
        "\r\n",
        "#subtraction\r\n",
        "print(21 - 10)\r\n",
        "\r\n",
        "#multiplication \r\n",
        "print(6 * 6)\r\n",
        "\r\n",
        "#division \r\n",
        "print(20 / 4)\r\n",
        "print(21 / 4)\r\n",
        "print(3 / 2)\r\n",
        "\r\n",
        "#exponents\r\n",
        "print(6 ** 2)\r\n",
        "print(4 ** 2)\r\n",
        "print(9 ** .5)\r\n",
        "\r\n",
        "#modulus\r\n",
        "print(10 % 3)\r\n",
        "print(27 % 5)\r\n",
        "\r\n",
        "#combination with variables: \r\n",
        "5 + 5 * 4"
      ],
      "execution_count": null,
      "outputs": [
        {
          "output_type": "stream",
          "text": [
            "19\n",
            "11\n",
            "36\n",
            "5.0\n",
            "5.25\n",
            "1.5\n",
            "36\n",
            "16\n",
            "3.0\n",
            "1\n",
            "2\n"
          ],
          "name": "stdout"
        },
        {
          "output_type": "execute_result",
          "data": {
            "text/plain": [
              "25"
            ]
          },
          "metadata": {
            "tags": []
          },
          "execution_count": 5
        }
      ]
    },
    {
      "cell_type": "markdown",
      "metadata": {
        "id": "nrLCY4dGvoIi"
      },
      "source": [
        "## Functions in Python\n",
        "Python has some built-in functions that we can use. You have already seen one of these -- the print() command.<br>\n",
        "Function calls are generally of the form of a function name, followed by some brackets.<br>\n",
        "You saw that when you wanted to print something, the text you wanted to have printed was included within the brackets.<br>\n",
        "_Inputs_ to a function are passed in by being included in the brackets following the function's name. For the print function, the input is the text to be printed.\n",
        "<br><br>\n",
        "The code below shows some more examples of the print statement."
      ]
    },
    {
      "cell_type": "code",
      "metadata": {
        "id": "sDtnpTbMvoIj",
        "colab": {
          "base_uri": "https://localhost:8080/"
        },
        "outputId": "f5ef5fee-4354-46a6-fe1c-4f9ce1a0ae76"
      },
      "source": [
        "# Show how calling the print function with no text inputs\n",
        "# leads to inserting a blank line in the text output displayed.\n",
        "\n",
        "print(\"This is a line of text.\")\n",
        "print(\"This is also a line of text.\")\n",
        "print(\"I want to have a blank line display before the last line of text.\")\n",
        "print()\n",
        "print(\"This is the last line of text.\")"
      ],
      "execution_count": null,
      "outputs": [
        {
          "output_type": "stream",
          "text": [
            "This is a line of text.\n",
            "This is also a line of text.\n",
            "I want to have a blank line display before the last line of text.\n",
            "\n",
            "This is the last line of text.\n"
          ],
          "name": "stdout"
        }
      ]
    },
    {
      "cell_type": "markdown",
      "metadata": {
        "collapsed": true,
        "id": "PbazIdOVvoIm"
      },
      "source": [
        "## Accepting User Input\n",
        "There is another useful built-in function we can use.<br>\n",
        "This function lets us get input from a user.<br>\n",
        "The code cell below demonstrates this function, the input() function.<br>\n"
      ]
    },
    {
      "cell_type": "code",
      "metadata": {
        "id": "SetHe_9jvoIn",
        "colab": {
          "base_uri": "https://localhost:8080/"
        },
        "outputId": "a1add6c2-e91c-4b78-ff24-b879e87a06b8"
      },
      "source": [
        "# Choose descriptive variable names for storing the raw user input you obtain.\n",
        "\n",
        "\n",
        "name = input(\"Please enter your NAME: \")\n",
        "color = input(\"Please enter your FAVORITE COLOR: \")\n",
        "print(\"Hello, \" + name + \". My favorite color is \"+ color + \" too.\")"
      ],
      "execution_count": null,
      "outputs": [
        {
          "output_type": "stream",
          "text": [
            "Please enter your NAME: Andrew Schmitz\n",
            "Please enter your FAVORITE COLOR: coral\n",
            "Hello,Andrew Schmitz. My favorite color iscoraltoo.\n"
          ],
          "name": "stdout"
        }
      ]
    },
    {
      "cell_type": "markdown",
      "metadata": {
        "id": "GynSKyDcvoIr"
      },
      "source": [
        "Here, you may have noticed that we did something different in the print statement.<br>\n",
        "Instead of separating all of the strings and variables with commas, we used a __+ sign__ between the _name_ variable and the next string.<br>\n",
        "Commas would have worked, too, and the next code cell demonstrates the output you would get.\n"
      ]
    },
    {
      "cell_type": "code",
      "metadata": {
        "id": "KZto5ZuSvoIs"
      },
      "source": [
        "# demonstrating the difference between \",\" and \"+\" in print statements\n",
        "name = input(\"Please enter your NAME: \")\n",
        "color = input(\"Please enter your FAVORITE COLOR: \")\n",
        "print(\"Hello,\", name, \". My favorite color is\",color,\"too.\")"
      ],
      "execution_count": null,
      "outputs": []
    },
    {
      "cell_type": "markdown",
      "metadata": {
        "id": "OPkuzuP9voIv"
      },
      "source": [
        "The difference is subtle, but there is a space before the period that is supposed to end the first sentence.<br>\n",
        "The comma automatically inserts a space between the items it is separating.<br>\n",
        "When you use the __+ sign__ to connect two strings, no space is inserted between them, unless you specifically add one.<br>\n",
        "This is called _string concatenation_ (and it only works with strings).\n",
        "The next code cell demonstrates this further."
      ]
    },
    {
      "cell_type": "code",
      "metadata": {
        "id": "Mv3BbSievoIw",
        "colab": {
          "base_uri": "https://localhost:8080/"
        },
        "outputId": "70e3c2c6-3ea3-4f52-9eef-0964c790ad16"
      },
      "source": [
        "# Demonstraton of what works (and what doesn't) with string concatenation\n",
        "\n",
        "# strings\n",
        "hi = \"Hello \" + \"World\"\n",
        "\n",
        "# variables storing strings and strings\n",
        "h = \"hello\"\n",
        "w = \"world\"\n",
        "\n",
        "hw = h + \" \" + w  # Adding a space between the two words with the 1-character long space string: \" \"\n",
        "\n",
        "# strings + numbers cast to strings using the str() function\n",
        "# \"Casting\" means that Python will convert a numerical value to a string representation of the value\n",
        "days = \"there are \" + str(7) + \" days in a week\" # Note the added spaces in the first and last strings\n",
        "\n",
        "# Now to test printing all these strings we've concatenated\n",
        "print(hi)\n",
        "print(hw)\n",
        "print(days)\n"
      ],
      "execution_count": null,
      "outputs": [
        {
          "output_type": "stream",
          "text": [
            "Hello World\n",
            "hello world\n",
            "there are 7 days in a week\n"
          ],
          "name": "stdout"
        }
      ]
    },
    {
      "cell_type": "markdown",
      "metadata": {
        "id": "_ijR9oUCIe3w"
      },
      "source": [
        "### Comparisons\n",
        "\n",
        "It is often useful to be able to compare things in some way -- is one greater than the other? Are they equal?\n",
        "\n",
        "The code below demonstrates how to do this:"
      ]
    },
    {
      "cell_type": "code",
      "metadata": {
        "id": "Puyd0G7TI16q",
        "colab": {
          "base_uri": "https://localhost:8080/",
          "height": 85
        },
        "outputId": "0682f5e3-2e4b-452a-81c7-aa3fa694be85"
      },
      "source": [
        "n1 = 7\n",
        "n2 = 23\n",
        "\n",
        "\n",
        "\n",
        "if (n1 == n2):\n",
        "  print(\"The numbers are EQUAL!\")\n",
        "else:\n",
        "  print(\"NOT equal.\")\n",
        "\n",
        "print(3 <= 4)\n",
        "\n",
        "print( 10 >= n1+3)\n"
      ],
      "execution_count": null,
      "outputs": [
        {
          "output_type": "stream",
          "text": [
            "False\n",
            "NOT equal.\n",
            "True\n",
            "True\n"
          ],
          "name": "stdout"
        }
      ]
    },
    {
      "cell_type": "markdown",
      "metadata": {
        "id": "rXsrRD3tJIUK"
      },
      "source": [
        "You can use <, >, <=, >=, and ==.\n",
        "\n",
        "Expressions such as these, that return **True** or **False** are called **_Booleans_**\n",
        "\n",
        "You can also check for True or False in other ways, as we saw earlier:"
      ]
    },
    {
      "cell_type": "markdown",
      "metadata": {
        "id": "uhNde0HTKLnT"
      },
      "source": [
        "Example of Python Project: \n"
      ]
    },
    {
      "cell_type": "code",
      "metadata": {
        "id": "TPaCMw-mzj_O"
      },
      "source": [
        "# BANK HEIST\n",
        "# Interactive Fiction\n",
        "# Andrew Schmitz\n",
        "#Python 2.7\n",
        "\n",
        "def introduction():\n",
        "  print \"You are growing up in Los Santos, and times are tough. After being dumped by your mother, father and your pet fish, you decide that the life of crime is the life for you.\"\n",
        "  print \"You didnt choose the crime life, the crime life chose you. In a desperate attempt to get back to your former riches, you decide that your best option is to assemble a team, rob the bank, and get out.\"\n",
        "  print\n",
        "  quiet_loud()\n",
        "\n",
        "def quiet_loud():\n",
        "  print \"Would you like to rob the bank quietly or loudly?\"\n",
        "  print \"Type q for quiet and l for loud\"\n",
        "  answer = raw_input()   \n",
        "  if answer == \"q\":     \n",
        "      stealtruck()\n",
        "  elif answer == \"l\":\n",
        "      print\"Looks like something is about to go boom\"\n",
        "      car_helicopter()    \n",
        "\n",
        "def car_helicopter(): \n",
        "  print \"Would you like to go to the bank with a car or helicopter?\"\n",
        "  print \"Type c for car and h for helicopter\"\n",
        "  answer = raw_input()  \n",
        "  if answer == \"c\": \n",
        "      print \"Looks like we're gonna be going in by car gentlemen.\"    \n",
        "      arriveloudcar() \n",
        "  elif answer == \"h\":\n",
        "      print\"Looks like we're going to be going in by helicopter gentlemen.\" \n",
        "      arriveloudhelicopter()   \n",
        "\n",
        "def stealtruck():\n",
        "    print \"Looks like you're going to be going in undercover. Now we need to go steal an armored truck and get some uniforms to make us look like workers who are transporting money and gold.\"   \n",
        "    stealtruck2() \n"
      ],
      "execution_count": null,
      "outputs": []
    },
    {
      "cell_type": "markdown",
      "metadata": {
        "id": "D1s9yXFt1Zoc"
      },
      "source": [
        "# Great Starter Projects\n",
        "\n",
        "Randomization: Dice roller, cards, number guessing \n",
        "\n",
        "Functions, If Else, User Input: Choose you own adventure, Mad Libs \n",
        "\n",
        "Drawing: Python Turtle\n",
        "\n",
        "Tons of others: https://www.upgrad.com/blog/python-projects-ideas-topics-beginners/\n",
        "\n",
        "\n"
      ]
    },
    {
      "cell_type": "markdown",
      "metadata": {
        "id": "I_kg6uSn2C_n"
      },
      "source": [
        "# Classes, Books\n",
        "\n",
        "CodeCademy, Udemy, Free Code Camp, \"Free Python Books\"\n",
        "\n",
        "https://www.reddit.com/r/learnprogramming/comments/k4rxqk/automate_the_boring_stuff_with_python_online/"
      ]
    }
  ]
}